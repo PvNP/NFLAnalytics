{
 "cells": [
  {
   "cell_type": "code",
   "execution_count": 1,
   "metadata": {
    "collapsed": true
   },
   "outputs": [],
   "source": [
    "# import our modules\n",
    "import re\n",
    "import requests\n",
    "import unicodedata\n",
    "import numpy as np\n",
    "from bs4 import BeautifulSoup as bs"
   ]
  },
  {
   "cell_type": "code",
   "execution_count": 2,
   "metadata": {
    "collapsed": true
   },
   "outputs": [],
   "source": [
    "# set our root url\n",
    "root_url = \"http://www.spotrac.com/nfl\""
   ]
  },
  {
   "cell_type": "code",
   "execution_count": 3,
   "metadata": {
    "collapsed": false
   },
   "outputs": [
    {
     "name": "stdout",
     "output_type": "stream",
     "text": [
      "ol-xs-4 text-right\">\n",
      "       <a href=\"#\" id=\"nav-expander\" onclick=\"return false;\">\n",
      "        <span class=\"fa fa-bars\" style=\"z-index:1000000;position:relative;\">\n",
      "        </span>\n",
      "       </a>\n",
      "      </div>\n",
      "      <!-- end:col -->\n",
      "     </div>\n",
      "     <!-- end:row -->\n",
      "     <!-- start:sidr -->\n",
      "     <div id=\"sidr\">\n",
      "      <form action=\"https://www.spotrac.com/redirect/search/\" id=\"search-form-mobile\" method=\"po\n"
     ]
    }
   ],
   "source": [
    "# request page using a \"GET\" request\n",
    "r = requests.get(root_url)\n",
    "# actually get the text of the page (in this case, HTML!)\n",
    "page_text = r.text\n",
    "# store the HTML in a BS object; we'll use the \"lxml\" parsing system\n",
    "soup = bs(page_text, \"lxml\")\n",
    "# we can actually see our web page stored in the BS object using one of the BS methods\n",
    "# for example, here's a sample 400 characters...\n",
    "print soup.prettify()[7600:8000]"
   ]
  },
  {
   "cell_type": "code",
   "execution_count": 4,
   "metadata": {
    "collapsed": false
   },
   "outputs": [
    {
     "name": "stdout",
     "output_type": "stream",
     "text": [
      "['http://www.spotrac.com/nfl/arizona-cardinals/positional/', 'http://www.spotrac.com/nfl/atlanta-falcons/positional/', 'http://www.spotrac.com/nfl/baltimore-ravens/positional/', 'http://www.spotrac.com/nfl/buffalo-bills/positional/', 'http://www.spotrac.com/nfl/carolina-panthers/positional/', 'http://www.spotrac.com/nfl/chicago-bears/positional/', 'http://www.spotrac.com/nfl/cincinnati-bengals/positional/', 'http://www.spotrac.com/nfl/cleveland-browns/positional/', 'http://www.spotrac.com/nfl/dallas-cowboys/positional/', 'http://www.spotrac.com/nfl/denver-broncos/positional/', 'http://www.spotrac.com/nfl/detroit-lions/positional/', 'http://www.spotrac.com/nfl/green-bay-packers/positional/', 'http://www.spotrac.com/nfl/houston-texans/positional/', 'http://www.spotrac.com/nfl/indianapolis-colts/positional/', 'http://www.spotrac.com/nfl/jacksonville-jaguars/positional/', 'http://www.spotrac.com/nfl/kansas-city-chiefs/positional/', 'http://www.spotrac.com/nfl/los-angeles-rams/positional/', 'http://www.spotrac.com/nfl/miami-dolphins/positional/', 'http://www.spotrac.com/nfl/minnesota-vikings/positional/', 'http://www.spotrac.com/nfl/new-england-patriots/positional/', 'http://www.spotrac.com/nfl/new-orleans-saints/positional/', 'http://www.spotrac.com/nfl/new-york-giants/positional/', 'http://www.spotrac.com/nfl/new-york-jets/positional/', 'http://www.spotrac.com/nfl/oakland-raiders/positional/', 'http://www.spotrac.com/nfl/philadelphia-eagles/positional/', 'http://www.spotrac.com/nfl/pittsburgh-steelers/positional/', 'http://www.spotrac.com/nfl/san-diego-chargers/positional/', 'http://www.spotrac.com/nfl/san-francisco-49ers/positional/', 'http://www.spotrac.com/nfl/seattle-seahawks/positional/', 'http://www.spotrac.com/nfl/tampa-bay-buccaneers/positional/', 'http://www.spotrac.com/nfl/tennessee-titans/positional/', 'http://www.spotrac.com/nfl/washington-redskins/positional/']\n",
      "['Arizona Cardinals', 'Atlanta Falcons', 'Baltimore Ravens', 'Buffalo Bills', 'Carolina Panthers', 'Chicago Bears', 'Cincinnati Bengals', 'Cleveland Browns', 'Dallas Cowboys', 'Denver Broncos', 'Detroit Lions', 'Green Bay Packers', 'Houston Texans', 'Indianapolis Colts', 'Jacksonville Jaguars', 'Kansas City Chiefs', 'Miami Dolphins', 'Minnesota Vikings', 'New England Patriots', 'New Orleans Saints', 'New York Giants', 'New York Jets', 'Oakland Raiders', 'Philadelphia Eagles', 'Pittsburgh Steelers', 'San Diego Chargers', 'San Francisco 49ers', 'Seattle Seahawks', 'St. Louis Rams', 'Tampa Bay Buccaneers', 'Tennessee Titans', 'Washington Redskins']\n"
     ]
    }
   ],
   "source": [
    "links = soup.find_all('a')\n",
    "temp = []\n",
    "for link in links:\n",
    "    if (link.text[2:] == \"Positional Spending\"):\n",
    "        temp.append(link.get('href'))\n",
    "links=temp\n",
    "links.remove(\"http://www.spotrac.com/nfl/los-angeles-chargers/positional/\")\n",
    "links.insert(26,\"http://www.spotrac.com/nfl/san-diego-chargers/positional/\")\n",
    "print(links)\n",
    "teams=[]\n",
    "for l in links:\n",
    "    team=l[::-1][12:]\n",
    "    team=team[:team.find(\"/\")][::-1]\n",
    "    team=team.replace(\"-\", \" \")\n",
    "    teams.append(team.title())\n",
    "teams[27]=\"San Francisco 49ers\"\n",
    "newlinks=links[:]\n",
    "newteams=teams[:]\n",
    "oldrams=\"http://www.spotrac.com/nfl/st.-louis-rams/positional/\"\n",
    "oldlinks=links[:]\n",
    "oldlinks.remove(\"http://www.spotrac.com/nfl/los-angeles-rams/positional/\")\n",
    "oldlinks.insert(28, oldrams)\n",
    "oldramsname=\"St. Louis Rams\"\n",
    "oldteams=teams[:]\n",
    "oldteams.remove(\"Los Angeles Rams\")\n",
    "oldteams.insert(28, oldramsname)\n",
    "print(oldteams)"
   ]
  },
  {
   "cell_type": "code",
   "execution_count": 6,
   "metadata": {
    "collapsed": false
   },
   "outputs": [],
   "source": [
    "years = range(2013, 2017)\n",
    "database = np.zeros(shape=(3584,7),dtype=\"a30\")\n",
    "counter = 0\n",
    "for year in years:\n",
    "    if (year < 2016):\n",
    "        links = oldlinks\n",
    "        teams = oldteams\n",
    "    else:\n",
    "        links = newlinks\n",
    "        teams = newteams\n",
    "    for i in range(len(links)):\n",
    "        r = requests.get(links[i] + str(year) + \"/full-cap/\")\n",
    "        soup = bs(r.text, \"lxml\")\n",
    "        data = soup.find_all('td')\n",
    "        for j in range(len(data)):\n",
    "            if j % 5 != 0:\n",
    "                continue\n",
    "            else:\n",
    "                database[counter]=[str(year), newteams[i], str(data[j].text), str(data[j+1].text), str(data[j+2].text), str(data[j+3].text), str(data[j+4].text)]\n",
    "                counter += 1\n",
    "np.savetxt(\"nfldata.txt\",database,delimiter=\"\\t\",fmt=\"%s\")\n",
    "        "
   ]
  },
  {
   "cell_type": "code",
   "execution_count": null,
   "metadata": {
    "collapsed": true
   },
   "outputs": [],
   "source": []
  }
 ],
 "metadata": {
  "anaconda-cloud": {},
  "kernelspec": {
   "display_name": "Python [Root]",
   "language": "python",
   "name": "Python [Root]"
  },
  "language_info": {
   "codemirror_mode": {
    "name": "ipython",
    "version": 2
   },
   "file_extension": ".py",
   "mimetype": "text/x-python",
   "name": "python",
   "nbconvert_exporter": "python",
   "pygments_lexer": "ipython2",
   "version": "2.7.12"
  }
 },
 "nbformat": 4,
 "nbformat_minor": 0
}
